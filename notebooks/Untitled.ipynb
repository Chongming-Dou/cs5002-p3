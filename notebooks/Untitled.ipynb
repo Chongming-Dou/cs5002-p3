{
 "cells": [
  {
   "cell_type": "code",
   "execution_count": 5,
   "id": "409c7fb0-1a7b-4f27-b993-a2e6c2a43748",
   "metadata": {},
   "outputs": [
    {
     "name": "stdout",
     "output_type": "stream",
     "text": [
      "Updated data dictionary saved to: ../data/corrected_data_dictionary.json\n"
     ]
    },
    {
     "name": "stderr",
     "output_type": "stream",
     "text": [
      "C:\\Users\\86188\\AppData\\Local\\Temp\\ipykernel_14688\\979492930.py:14: FutureWarning: Series.fillna with 'method' is deprecated and will raise in a future version. Use obj.ffill() or obj.bfill() instead.\n",
      "  variable_list['Variable Name'] = variable_list['Variable Name'].fillna(method='ffill')\n"
     ]
    }
   ],
   "source": [
    "import pandas as pd\n",
    "import json\n",
    "\n",
    "# Step 1: Load the existing data dictionary\n",
    "data_dict_path = '../data/data_dictionary.json'  # Replace with your file path\n",
    "with open(data_dict_path, 'r') as file:\n",
    "    data_dict = json.load(file)\n",
    "\n",
    "# Step 2: Load the Teaching_File_Variable_List CSV file\n",
    "variable_list_path = '../data/Teaching_File_Variable_List.csv'  # Replace with your file path\n",
    "variable_list = pd.read_csv(variable_list_path)\n",
    "\n",
    "# Step 3: Clean and preprocess the CSV file to handle irregular structure\n",
    "variable_list['Variable Name'] = variable_list['Variable Name'].fillna(method='ffill')\n",
    "variable_list_cleaned = variable_list[['Variable Name', 'Variable Values']].dropna()\n",
    "\n",
    "# Step 4: Build mappings from Variable Name to Variable Values\n",
    "variable_mappings = {}\n",
    "for variable, group in variable_list_cleaned.groupby('Variable Name'):\n",
    "    mapping = {}\n",
    "    for row in group['Variable Values']:\n",
    "        if \".\" in row:  # Ensure valid \"code.description\" format\n",
    "            try:\n",
    "                code, desc = row.split('.', 1)\n",
    "                mapping[code.strip()] = desc.strip()\n",
    "            except ValueError:\n",
    "                continue\n",
    "    if mapping:  # Only include non-empty mappings\n",
    "        variable_mappings[variable] = mapping\n",
    "\n",
    "# Step 5: Merge the new mappings with the existing data dictionary\n",
    "data_dict_updated = {**data_dict, **variable_mappings}\n",
    "\n",
    "# Step 6: Save the updated dictionary to a new JSON file\n",
    "updated_dict_path = '../data/corrected_data_dictionary.json'  # Replace with your desired file path\n",
    "with open(updated_dict_path, 'w') as file:\n",
    "    json.dump(data_dict_updated, file, indent=4)\n",
    "\n",
    "print(f\"Updated data dictionary saved to: {updated_dict_path}\")\n"
   ]
  },
  {
   "cell_type": "code",
   "execution_count": null,
   "id": "5d9a5b26-a408-4463-bcee-fc692998d3a4",
   "metadata": {},
   "outputs": [],
   "source": []
  }
 ],
 "metadata": {
  "kernelspec": {
   "display_name": "Python 3 (ipykernel)",
   "language": "python",
   "name": "python3"
  },
  "language_info": {
   "codemirror_mode": {
    "name": "ipython",
    "version": 3
   },
   "file_extension": ".py",
   "mimetype": "text/x-python",
   "name": "python",
   "nbconvert_exporter": "python",
   "pygments_lexer": "ipython3",
   "version": "3.11.5"
  }
 },
 "nbformat": 4,
 "nbformat_minor": 5
}
